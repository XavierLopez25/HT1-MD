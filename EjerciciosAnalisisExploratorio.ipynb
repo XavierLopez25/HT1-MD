{
 "cells": [
  {
   "cell_type": "markdown",
   "metadata": {},
   "source": [
    "## Ejercicios realizados sobre el Análisis Exploratorio Realizado\n"
   ]
  },
  {
   "cell_type": "code",
   "execution_count": 1,
   "metadata": {},
   "outputs": [],
   "source": [
    "import numpy as np\n",
    "import pandas as pd\n",
    "import matplotlib\n",
    "import matplotlib.pyplot as plt\n",
    "import scipy.stats as stats\n",
    "import statsmodels.stats.diagnostic as diag\n",
    "import statsmodels.api as sm\n",
    "import seaborn as sns"
   ]
  },
  {
   "cell_type": "markdown",
   "metadata": {},
   "source": [
    "**a. ¿Cuáles son las 10 películas que contaron con más presupuesto?**\n"
   ]
  },
  {
   "cell_type": "code",
   "execution_count": 8,
   "metadata": {},
   "outputs": [
    {
     "data": {
      "text/html": [
       "<div>\n",
       "<style scoped>\n",
       "    .dataframe tbody tr th:only-of-type {\n",
       "        vertical-align: middle;\n",
       "    }\n",
       "\n",
       "    .dataframe tbody tr th {\n",
       "        vertical-align: top;\n",
       "    }\n",
       "\n",
       "    .dataframe thead th {\n",
       "        text-align: right;\n",
       "    }\n",
       "</style>\n",
       "<table border=\"1\" class=\"dataframe\">\n",
       "  <thead>\n",
       "    <tr style=\"text-align: right;\">\n",
       "      <th></th>\n",
       "      <th>originalTitle</th>\n",
       "      <th>budget</th>\n",
       "    </tr>\n",
       "  </thead>\n",
       "  <tbody>\n",
       "    <tr>\n",
       "      <th>716</th>\n",
       "      <td>Pirates of the Caribbean: On Stranger Tides</td>\n",
       "      <td>$380,000,000</td>\n",
       "    </tr>\n",
       "    <tr>\n",
       "      <th>4710</th>\n",
       "      <td>Avengers: Age of Ultron</td>\n",
       "      <td>$365,000,000</td>\n",
       "    </tr>\n",
       "    <tr>\n",
       "      <th>5952</th>\n",
       "      <td>Avengers: Endgame</td>\n",
       "      <td>$356,000,000</td>\n",
       "    </tr>\n",
       "    <tr>\n",
       "      <th>5953</th>\n",
       "      <td>Avengers: Infinity War</td>\n",
       "      <td>$300,000,000</td>\n",
       "    </tr>\n",
       "    <tr>\n",
       "      <th>163</th>\n",
       "      <td>Pirates of the Caribbean: At World's End</td>\n",
       "      <td>$300,000,000</td>\n",
       "    </tr>\n",
       "    <tr>\n",
       "      <th>4953</th>\n",
       "      <td>Justice League</td>\n",
       "      <td>$300,000,000</td>\n",
       "    </tr>\n",
       "    <tr>\n",
       "      <th>607</th>\n",
       "      <td>Superman Returns</td>\n",
       "      <td>$270,000,000</td>\n",
       "    </tr>\n",
       "    <tr>\n",
       "      <th>3791</th>\n",
       "      <td>Tangled</td>\n",
       "      <td>$260,000,000</td>\n",
       "    </tr>\n",
       "    <tr>\n",
       "      <th>7134</th>\n",
       "      <td>The Lion King</td>\n",
       "      <td>$260,000,000</td>\n",
       "    </tr>\n",
       "    <tr>\n",
       "      <th>280</th>\n",
       "      <td>Spider-Man 3</td>\n",
       "      <td>$258,000,000</td>\n",
       "    </tr>\n",
       "  </tbody>\n",
       "</table>\n",
       "</div>"
      ],
      "text/plain": [
       "                                    originalTitle        budget\n",
       "716   Pirates of the Caribbean: On Stranger Tides  $380,000,000\n",
       "4710                      Avengers: Age of Ultron  $365,000,000\n",
       "5952                            Avengers: Endgame  $356,000,000\n",
       "5953                       Avengers: Infinity War  $300,000,000\n",
       "163      Pirates of the Caribbean: At World's End  $300,000,000\n",
       "4953                               Justice League  $300,000,000\n",
       "607                              Superman Returns  $270,000,000\n",
       "3791                                      Tangled  $260,000,000\n",
       "7134                                The Lion King  $260,000,000\n",
       "280                                  Spider-Man 3  $258,000,000"
      ]
     },
     "metadata": {},
     "output_type": "display_data"
    }
   ],
   "source": [
    "df = pd.read_csv('movies.csv', encoding='ISO-8859-1')\n",
    "\n",
    "# Sort the DataFrame by the 'budget' column in descending order\n",
    "sorted_df = df.sort_values(by='budget', ascending=False)\n",
    "\n",
    "# Select the top 10 movies with the highest budgets\n",
    "top_10_budget_films = sorted_df[['originalTitle', 'budget']].head(10)\n",
    "\n",
    "# Format the 'budget' values as currency (e.g., $1,000,000)\n",
    "top_10_budget_films['budget'] = top_10_budget_films['budget'].apply(lambda x: f\"${x:,.0f}\")\n",
    "\n",
    "# Display the resulting DataFrame with the 'originalTitle' and formatted 'budget' columns\n",
    "display(top_10_budget_films)"
   ]
  },
  {
   "cell_type": "markdown",
   "metadata": {},
   "source": [
    "**Análisis de las Películas con Mayor Presupuesto**\n",
    "\n",
    "<small> \n",
    "La tabla anterior presenta las 10 películas con los mayores presupuestos en nuestro dataset. \"Pirates of the Caribbean: On Stranger Tides\" lidera la lista con un presupuesto de $380 millones, seguido de cerca por \"Avengers: Age of Ultron\" con $365 millones y \"Avengers: Endgame\" con $356 millones. Estos elevados presupuestos reflejan el alto coste asociado con la producción de películas de gran escala, que a menudo incluyen extensos efectos especiales, grandes elencos y equipos técnicos, así como locaciones globales.\n",
    "\n",
    "Este grupo de películas destaca por ser predominantemente del género de acción y aventura, lo cual es indicativo de la tendencia de la industria cinematográfica a invertir considerablemente en películas que apuntan a generar grandes taquillas a nivel mundial. La presencia repetida de franquicias como \"Avengers\" y \"Pirates of the Caribbean\" subraya la apuesta de los estudios por secuelas y series de películas que ya han demostrado ser exitosas comercialmente.\n",
    "</small>\n"
   ]
  },
  {
   "cell_type": "markdown",
   "metadata": {},
   "source": [
    "**b. ¿Cuáles son las 10 películas que más ingresos tuvieron?**\n"
   ]
  },
  {
   "cell_type": "code",
   "execution_count": null,
   "metadata": {},
   "outputs": [
    {
     "data": {
      "text/html": [
       "<div>\n",
       "<style scoped>\n",
       "    .dataframe tbody tr th:only-of-type {\n",
       "        vertical-align: middle;\n",
       "    }\n",
       "\n",
       "    .dataframe tbody tr th {\n",
       "        vertical-align: top;\n",
       "    }\n",
       "\n",
       "    .dataframe thead th {\n",
       "        text-align: right;\n",
       "    }\n",
       "</style>\n",
       "<table border=\"1\" class=\"dataframe\">\n",
       "  <thead>\n",
       "    <tr style=\"text-align: right;\">\n",
       "      <th></th>\n",
       "      <th>originalTitle</th>\n",
       "      <th>revenue</th>\n",
       "    </tr>\n",
       "  </thead>\n",
       "  <tbody>\n",
       "    <tr>\n",
       "      <th>3210</th>\n",
       "      <td>Avatar</td>\n",
       "      <td>$2,847,246,203</td>\n",
       "    </tr>\n",
       "    <tr>\n",
       "      <th>5952</th>\n",
       "      <td>Avengers: Endgame</td>\n",
       "      <td>$2,797,800,564</td>\n",
       "    </tr>\n",
       "    <tr>\n",
       "      <th>307</th>\n",
       "      <td>Titanic</td>\n",
       "      <td>$2,187,463,944</td>\n",
       "    </tr>\n",
       "    <tr>\n",
       "      <th>4947</th>\n",
       "      <td>Star Wars: The Force Awakens</td>\n",
       "      <td>$2,068,223,624</td>\n",
       "    </tr>\n",
       "    <tr>\n",
       "      <th>5953</th>\n",
       "      <td>Avengers: Infinity War</td>\n",
       "      <td>$2,046,239,637</td>\n",
       "    </tr>\n",
       "    <tr>\n",
       "      <th>4914</th>\n",
       "      <td>Jurassic World</td>\n",
       "      <td>$1,671,713,208</td>\n",
       "    </tr>\n",
       "    <tr>\n",
       "      <th>7134</th>\n",
       "      <td>The Lion King</td>\n",
       "      <td>$1,667,635,327</td>\n",
       "    </tr>\n",
       "    <tr>\n",
       "      <th>9049</th>\n",
       "      <td>Spider-Man: No Way Home</td>\n",
       "      <td>$1,631,853,496</td>\n",
       "    </tr>\n",
       "    <tr>\n",
       "      <th>3397</th>\n",
       "      <td>The Avengers</td>\n",
       "      <td>$1,518,815,515</td>\n",
       "    </tr>\n",
       "    <tr>\n",
       "      <th>5087</th>\n",
       "      <td>Furious 7</td>\n",
       "      <td>$1,515,047,671</td>\n",
       "    </tr>\n",
       "  </tbody>\n",
       "</table>\n",
       "</div>"
      ],
      "text/plain": [
       "                     originalTitle         revenue\n",
       "3210                        Avatar  $2,847,246,203\n",
       "5952             Avengers: Endgame  $2,797,800,564\n",
       "307                        Titanic  $2,187,463,944\n",
       "4947  Star Wars: The Force Awakens  $2,068,223,624\n",
       "5953        Avengers: Infinity War  $2,046,239,637\n",
       "4914                Jurassic World  $1,671,713,208\n",
       "7134                 The Lion King  $1,667,635,327\n",
       "9049       Spider-Man: No Way Home  $1,631,853,496\n",
       "3397                  The Avengers  $1,518,815,515\n",
       "5087                     Furious 7  $1,515,047,671"
      ]
     },
     "metadata": {},
     "output_type": "display_data"
    }
   ],
   "source": [
    "# Read the CSV file into a DataFrame\n",
    "df = pd.read_csv('movies.csv', encoding='ISO-8859-1')\n",
    "\n",
    "# Convert the 'revenue' column to numeric, coercing errors to NaN\n",
    "df['revenue'] = pd.to_numeric(df['revenue'], errors='coerce')\n",
    "\n",
    "# Sort the DataFrame by the 'revenue' column in descending order and select the top 10 movies\n",
    "top_revenue_films = df.sort_values(by='revenue', ascending=False)[['originalTitle', 'revenue']].head(10)\n",
    "\n",
    "# Format the 'revenue' values as currency (e.g., $1,000,000)\n",
    "top_revenue_films['revenue'] = top_revenue_films['revenue'].apply(lambda x: f\"${x:,.0f}\")\n",
    "\n",
    "# Display the resulting DataFrame with the 'originalTitle' and formatted 'revenue' columns\n",
    "display(top_revenue_films)"
   ]
  },
  {
   "cell_type": "markdown",
   "metadata": {},
   "source": [
    "**Análisis de las Películas con Mayores Ingresos**\n",
    "\n",
    "<small>\n",
    "La tabla anterior muestra las 10 películas que han generado los mayores ingresos en nuestro dataset. \"Avatar\" encabeza la lista con ingresos de $2,847 millones, seguido por \"Avengers: Endgame\" con $2,798 millones y \"Titanic\" con $2,187 millones. Estas cifras destacan no solo el éxito comercial de estas películas, sino también su amplio alcance y popularidad global.\n",
    "\n",
    "Este conjunto de películas es principalmente de los géneros de acción, ciencia ficción y drama, lo que refleja la preferencia de la audiencia por historias épicas y efectos visuales espectaculares. La presencia de múltiples películas de la saga \"Avengers\" y otros títulos icónicos como \"Star Wars: The Force Awakens\" y \"Jurassic World\" demuestra la tendencia de los estudios de cine a invertir en franquicias de gran escala que prometen no solo retorno financiero, sino también un fuerte seguimiento de fanáticos a nivel mundial.\n",
    "</small>\n"
   ]
  },
  {
   "cell_type": "markdown",
   "metadata": {},
   "source": [
    "**c. ¿Cuál es la película que más votos tuvo?**\n"
   ]
  },
  {
   "cell_type": "code",
   "execution_count": 13,
   "metadata": {},
   "outputs": [
    {
     "name": "stdout",
     "output_type": "stream",
     "text": [
      "La película con más votos es:\n"
     ]
    },
    {
     "data": {
      "text/html": [
       "<div>\n",
       "<style scoped>\n",
       "    .dataframe tbody tr th:only-of-type {\n",
       "        vertical-align: middle;\n",
       "    }\n",
       "\n",
       "    .dataframe tbody tr th {\n",
       "        vertical-align: top;\n",
       "    }\n",
       "\n",
       "    .dataframe thead th {\n",
       "        text-align: right;\n",
       "    }\n",
       "</style>\n",
       "<table border=\"1\" class=\"dataframe\">\n",
       "  <thead>\n",
       "    <tr style=\"text-align: right;\">\n",
       "      <th></th>\n",
       "      <th>originalTitle</th>\n",
       "      <th>voteCount</th>\n",
       "    </tr>\n",
       "  </thead>\n",
       "  <tbody>\n",
       "    <tr>\n",
       "      <th>3511</th>\n",
       "      <td>Inception</td>\n",
       "      <td>30788</td>\n",
       "    </tr>\n",
       "  </tbody>\n",
       "</table>\n",
       "</div>"
      ],
      "text/plain": [
       "     originalTitle  voteCount\n",
       "3511     Inception      30788"
      ]
     },
     "metadata": {},
     "output_type": "display_data"
    }
   ],
   "source": [
    "df = pd.read_csv('movies.csv', encoding='ISO-8859-1')\n",
    "\n",
    "# Convert the 'voteCount' column to numeric, coercing errors to NaN\n",
    "df['voteCount'] = pd.to_numeric(df['voteCount'], errors='coerce')\n",
    "\n",
    "# Sort the DataFrame by the 'voteCount' column to find the top voted film\n",
    "top_voted_film = df.loc[df['voteCount'].idxmax()]\n",
    "\n",
    "print(\"La película con más votos es:\")\n",
    "display(df.loc[[df['voteCount'].idxmax()]][['originalTitle', 'voteCount']])"
   ]
  },
  {
   "cell_type": "markdown",
   "metadata": {},
   "source": [
    "**Película con Mayor Número de Votos**\n",
    "\n",
    "<small> La película que ha recibido el mayor número de votos dentro del dataset es **Inception**, con un total de **30788** votos. Esto indica no solo una alta participación de la audiencia sino también un gran interés y compromiso del público con esta película, reflejando su popularidad y resonancia cultural. </small>\n"
   ]
  }
 ],
 "metadata": {
  "kernelspec": {
   "display_name": "venv",
   "language": "python",
   "name": "python3"
  },
  "language_info": {
   "codemirror_mode": {
    "name": "ipython",
    "version": 3
   },
   "file_extension": ".py",
   "mimetype": "text/x-python",
   "name": "python",
   "nbconvert_exporter": "python",
   "pygments_lexer": "ipython3",
   "version": "3.12.1"
  }
 },
 "nbformat": 4,
 "nbformat_minor": 2
}
