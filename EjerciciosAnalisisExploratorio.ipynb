{
 "cells": [
  {
   "cell_type": "markdown",
   "metadata": {},
   "source": [
    "## Ejercicios realizados sobre el Análisis Exploratorio Realizado\n"
   ]
  },
  {
   "cell_type": "code",
   "execution_count": 16,
   "metadata": {},
   "outputs": [],
   "source": [
    "import numpy as np\n",
    "import pandas as pd\n",
    "import matplotlib\n",
    "import matplotlib.pyplot as plt\n",
    "import scipy.stats as stats\n",
    "import statsmodels.stats.diagnostic as diag\n",
    "import statsmodels.api as sm\n",
    "import seaborn as sns"
   ]
  },
  {
   "cell_type": "markdown",
   "metadata": {},
   "source": [
    "**a. ¿Cuáles son las 10 películas que contaron con más presupuesto?**\n"
   ]
  },
  {
   "cell_type": "code",
   "execution_count": 23,
   "metadata": {},
   "outputs": [
    {
     "name": "stdout",
     "output_type": "stream",
     "text": [
      "El top 10 de las películas con mayor presupuesto es:\n"
     ]
    },
    {
     "data": {
      "text/html": [
       "<div>\n",
       "<style scoped>\n",
       "    .dataframe tbody tr th:only-of-type {\n",
       "        vertical-align: middle;\n",
       "    }\n",
       "\n",
       "    .dataframe tbody tr th {\n",
       "        vertical-align: top;\n",
       "    }\n",
       "\n",
       "    .dataframe thead th {\n",
       "        text-align: right;\n",
       "    }\n",
       "</style>\n",
       "<table border=\"1\" class=\"dataframe\">\n",
       "  <thead>\n",
       "    <tr style=\"text-align: right;\">\n",
       "      <th></th>\n",
       "      <th>originalTitle</th>\n",
       "      <th>budget</th>\n",
       "    </tr>\n",
       "  </thead>\n",
       "  <tbody>\n",
       "    <tr>\n",
       "      <th>716</th>\n",
       "      <td>Pirates of the Caribbean: On Stranger Tides</td>\n",
       "      <td>$380,000,000</td>\n",
       "    </tr>\n",
       "    <tr>\n",
       "      <th>4710</th>\n",
       "      <td>Avengers: Age of Ultron</td>\n",
       "      <td>$365,000,000</td>\n",
       "    </tr>\n",
       "    <tr>\n",
       "      <th>5952</th>\n",
       "      <td>Avengers: Endgame</td>\n",
       "      <td>$356,000,000</td>\n",
       "    </tr>\n",
       "    <tr>\n",
       "      <th>5953</th>\n",
       "      <td>Avengers: Infinity War</td>\n",
       "      <td>$300,000,000</td>\n",
       "    </tr>\n",
       "    <tr>\n",
       "      <th>163</th>\n",
       "      <td>Pirates of the Caribbean: At World's End</td>\n",
       "      <td>$300,000,000</td>\n",
       "    </tr>\n",
       "    <tr>\n",
       "      <th>4953</th>\n",
       "      <td>Justice League</td>\n",
       "      <td>$300,000,000</td>\n",
       "    </tr>\n",
       "    <tr>\n",
       "      <th>607</th>\n",
       "      <td>Superman Returns</td>\n",
       "      <td>$270,000,000</td>\n",
       "    </tr>\n",
       "    <tr>\n",
       "      <th>3791</th>\n",
       "      <td>Tangled</td>\n",
       "      <td>$260,000,000</td>\n",
       "    </tr>\n",
       "    <tr>\n",
       "      <th>7134</th>\n",
       "      <td>The Lion King</td>\n",
       "      <td>$260,000,000</td>\n",
       "    </tr>\n",
       "    <tr>\n",
       "      <th>280</th>\n",
       "      <td>Spider-Man 3</td>\n",
       "      <td>$258,000,000</td>\n",
       "    </tr>\n",
       "  </tbody>\n",
       "</table>\n",
       "</div>"
      ],
      "text/plain": [
       "                                    originalTitle        budget\n",
       "716   Pirates of the Caribbean: On Stranger Tides  $380,000,000\n",
       "4710                      Avengers: Age of Ultron  $365,000,000\n",
       "5952                            Avengers: Endgame  $356,000,000\n",
       "5953                       Avengers: Infinity War  $300,000,000\n",
       "163      Pirates of the Caribbean: At World's End  $300,000,000\n",
       "4953                               Justice League  $300,000,000\n",
       "607                              Superman Returns  $270,000,000\n",
       "3791                                      Tangled  $260,000,000\n",
       "7134                                The Lion King  $260,000,000\n",
       "280                                  Spider-Man 3  $258,000,000"
      ]
     },
     "metadata": {},
     "output_type": "display_data"
    }
   ],
   "source": [
    "df = pd.read_csv('movies.csv', encoding='ISO-8859-1')\n",
    "\n",
    "# Sort the DataFrame by the 'budget' column in descending order\n",
    "sorted_df = df.sort_values(by='budget', ascending=False)\n",
    "\n",
    "# Select the top 10 movies with the highest budgets\n",
    "top_10_budget_films = sorted_df[['originalTitle', 'budget']].head(10)\n",
    "\n",
    "# Format the 'budget' values as currency (e.g., $1,000,000)\n",
    "top_10_budget_films['budget'] = top_10_budget_films['budget'].apply(lambda x: f\"${x:,.0f}\")\n",
    "\n",
    "# Display the resulting DataFrame with the 'originalTitle' and formatted 'budget' columns\n",
    "print(\"El top 10 de las películas con mayor presupuesto es:\")\n",
    "display(top_10_budget_films)"
   ]
  },
  {
   "cell_type": "markdown",
   "metadata": {},
   "source": [
    "**Análisis de las Películas con Mayor Presupuesto**\n",
    "\n",
    "<small> \n",
    "La tabla anterior presenta las 10 películas con los mayores presupuestos en nuestro dataset. \"Pirates of the Caribbean: On Stranger Tides\" lidera la lista con un presupuesto de $380 millones, seguido de cerca por \"Avengers: Age of Ultron\" con $365 millones y \"Avengers: Endgame\" con $356 millones. Estos elevados presupuestos reflejan el alto coste asociado con la producción de películas de gran escala, que a menudo incluyen extensos efectos especiales, grandes elencos y equipos técnicos, así como locaciones globales.\n",
    "\n",
    "Este grupo de películas destaca por ser predominantemente del género de acción y aventura, lo cual es indicativo de la tendencia de la industria cinematográfica a invertir considerablemente en películas que apuntan a generar grandes taquillas a nivel mundial. La presencia repetida de franquicias como \"Avengers\" y \"Pirates of the Caribbean\" subraya la apuesta de los estudios por secuelas y series de películas que ya han demostrado ser exitosas comercialmente.\n",
    "</small>\n"
   ]
  },
  {
   "cell_type": "markdown",
   "metadata": {},
   "source": [
    "**b. ¿Cuáles son las 10 películas que más ingresos tuvieron?**\n"
   ]
  },
  {
   "cell_type": "code",
   "execution_count": 24,
   "metadata": {},
   "outputs": [
    {
     "name": "stdout",
     "output_type": "stream",
     "text": [
      "El top 10 de peliculas con mayores ingresos es:\n"
     ]
    },
    {
     "data": {
      "text/html": [
       "<div>\n",
       "<style scoped>\n",
       "    .dataframe tbody tr th:only-of-type {\n",
       "        vertical-align: middle;\n",
       "    }\n",
       "\n",
       "    .dataframe tbody tr th {\n",
       "        vertical-align: top;\n",
       "    }\n",
       "\n",
       "    .dataframe thead th {\n",
       "        text-align: right;\n",
       "    }\n",
       "</style>\n",
       "<table border=\"1\" class=\"dataframe\">\n",
       "  <thead>\n",
       "    <tr style=\"text-align: right;\">\n",
       "      <th></th>\n",
       "      <th>originalTitle</th>\n",
       "      <th>revenue</th>\n",
       "    </tr>\n",
       "  </thead>\n",
       "  <tbody>\n",
       "    <tr>\n",
       "      <th>3210</th>\n",
       "      <td>Avatar</td>\n",
       "      <td>$2,847,246,203</td>\n",
       "    </tr>\n",
       "    <tr>\n",
       "      <th>5952</th>\n",
       "      <td>Avengers: Endgame</td>\n",
       "      <td>$2,797,800,564</td>\n",
       "    </tr>\n",
       "    <tr>\n",
       "      <th>307</th>\n",
       "      <td>Titanic</td>\n",
       "      <td>$2,187,463,944</td>\n",
       "    </tr>\n",
       "    <tr>\n",
       "      <th>4947</th>\n",
       "      <td>Star Wars: The Force Awakens</td>\n",
       "      <td>$2,068,223,624</td>\n",
       "    </tr>\n",
       "    <tr>\n",
       "      <th>5953</th>\n",
       "      <td>Avengers: Infinity War</td>\n",
       "      <td>$2,046,239,637</td>\n",
       "    </tr>\n",
       "    <tr>\n",
       "      <th>4914</th>\n",
       "      <td>Jurassic World</td>\n",
       "      <td>$1,671,713,208</td>\n",
       "    </tr>\n",
       "    <tr>\n",
       "      <th>7134</th>\n",
       "      <td>The Lion King</td>\n",
       "      <td>$1,667,635,327</td>\n",
       "    </tr>\n",
       "    <tr>\n",
       "      <th>9049</th>\n",
       "      <td>Spider-Man: No Way Home</td>\n",
       "      <td>$1,631,853,496</td>\n",
       "    </tr>\n",
       "    <tr>\n",
       "      <th>3397</th>\n",
       "      <td>The Avengers</td>\n",
       "      <td>$1,518,815,515</td>\n",
       "    </tr>\n",
       "    <tr>\n",
       "      <th>5087</th>\n",
       "      <td>Furious 7</td>\n",
       "      <td>$1,515,047,671</td>\n",
       "    </tr>\n",
       "  </tbody>\n",
       "</table>\n",
       "</div>"
      ],
      "text/plain": [
       "                     originalTitle         revenue\n",
       "3210                        Avatar  $2,847,246,203\n",
       "5952             Avengers: Endgame  $2,797,800,564\n",
       "307                        Titanic  $2,187,463,944\n",
       "4947  Star Wars: The Force Awakens  $2,068,223,624\n",
       "5953        Avengers: Infinity War  $2,046,239,637\n",
       "4914                Jurassic World  $1,671,713,208\n",
       "7134                 The Lion King  $1,667,635,327\n",
       "9049       Spider-Man: No Way Home  $1,631,853,496\n",
       "3397                  The Avengers  $1,518,815,515\n",
       "5087                     Furious 7  $1,515,047,671"
      ]
     },
     "metadata": {},
     "output_type": "display_data"
    }
   ],
   "source": [
    "# Read the CSV file into a DataFrame\n",
    "df = pd.read_csv('movies.csv', encoding='ISO-8859-1')\n",
    "\n",
    "# Convert the 'revenue' column to numeric, coercing errors to NaN\n",
    "df['revenue'] = pd.to_numeric(df['revenue'], errors='coerce')\n",
    "\n",
    "# Sort the DataFrame by the 'revenue' column in descending order and select the top 10 movies\n",
    "top_revenue_films = df.sort_values(by='revenue', ascending=False)[['originalTitle', 'revenue']].head(10)\n",
    "\n",
    "# Format the 'revenue' values as currency (e.g., $1,000,000)\n",
    "top_revenue_films['revenue'] = top_revenue_films['revenue'].apply(lambda x: f\"${x:,.0f}\")\n",
    "\n",
    "# Display the resulting DataFrame with the 'originalTitle' and formatted 'revenue' columns\n",
    "print(\"El top 10 de peliculas con mayores ingresos es:\")\n",
    "display(top_revenue_films)"
   ]
  },
  {
   "cell_type": "markdown",
   "metadata": {},
   "source": [
    "### Análisis de las Películas con Mayor Presupuesto\n",
    "\n",
    "<small> La tabla anterior presenta las 10 películas con los mayores presupuestos dentro del dataset. \"Pirates of the Caribbean: On Stranger Tides\" lidera la lista con un impresionante presupuesto de $380 millones, seguido de cerca por \"Avengers: Age of Ultron\" con $365 millones y \"Avengers: Endgame\" con $356 millones. Estos elevados presupuestos reflejan el alto coste asociado con la producción de películas de gran escala, que a menudo incluyen extensos efectos especiales, grandes elencos y equipos técnicos, así como locaciones globales.\n",
    "\n",
    "Este grupo de películas destaca por ser predominantemente del género de acción y aventura, lo cual es indicativo de la tendencia de la industria cinematográfica a invertir considerablemente en películas que apuntan a generar grandes taquillas a nivel mundial. La presencia repetida de franquicias como \"Avengers\" y \"Pirates of the Caribbean\" subraya la apuesta de los estudios por secuelas y series de películas que ya han demostrado ser exitosas comercialmente.\n",
    "</small>\n"
   ]
  },
  {
   "cell_type": "markdown",
   "metadata": {},
   "source": [
    "**c. ¿Cuál es la película que más votos tuvo?**\n"
   ]
  },
  {
   "cell_type": "code",
   "execution_count": 19,
   "metadata": {},
   "outputs": [
    {
     "name": "stdout",
     "output_type": "stream",
     "text": [
      "La película con más votos es:\n"
     ]
    },
    {
     "data": {
      "text/html": [
       "<div>\n",
       "<style scoped>\n",
       "    .dataframe tbody tr th:only-of-type {\n",
       "        vertical-align: middle;\n",
       "    }\n",
       "\n",
       "    .dataframe tbody tr th {\n",
       "        vertical-align: top;\n",
       "    }\n",
       "\n",
       "    .dataframe thead th {\n",
       "        text-align: right;\n",
       "    }\n",
       "</style>\n",
       "<table border=\"1\" class=\"dataframe\">\n",
       "  <thead>\n",
       "    <tr style=\"text-align: right;\">\n",
       "      <th></th>\n",
       "      <th>originalTitle</th>\n",
       "      <th>voteCount</th>\n",
       "    </tr>\n",
       "  </thead>\n",
       "  <tbody>\n",
       "    <tr>\n",
       "      <th>3511</th>\n",
       "      <td>Inception</td>\n",
       "      <td>30788</td>\n",
       "    </tr>\n",
       "  </tbody>\n",
       "</table>\n",
       "</div>"
      ],
      "text/plain": [
       "     originalTitle  voteCount\n",
       "3511     Inception      30788"
      ]
     },
     "metadata": {},
     "output_type": "display_data"
    }
   ],
   "source": [
    "df = pd.read_csv('movies.csv', encoding='ISO-8859-1')\n",
    "\n",
    "# Convert the 'voteCount' column to numeric, coercing errors to NaN\n",
    "df['voteCount'] = pd.to_numeric(df['voteCount'], errors='coerce')\n",
    "\n",
    "# Sort the DataFrame by the 'voteCount' column to find the top voted film\n",
    "top_voted_film = df.loc[df['voteCount'].idxmax()]\n",
    "\n",
    "print(\"La película con más votos es:\")\n",
    "display(df.loc[[df['voteCount'].idxmax()]][['originalTitle', 'voteCount']])"
   ]
  },
  {
   "cell_type": "markdown",
   "metadata": {},
   "source": [
    "**Película con Mayor Número de Votos**\n",
    "\n",
    "<small> La película que ha recibido el mayor número de votos dentro del dataset es **Inception**, con un total de **30788** votos. Esto indica no solo una alta participación de la audiencia sino también un gran interés y compromiso del público con esta película, reflejando su popularidad y resonancia cultural. </small>\n"
   ]
  },
  {
   "cell_type": "markdown",
   "metadata": {},
   "source": [
    "**d. ¿Cuál es la peor película de acuerdo a los votos de todos los usuarios?**\n"
   ]
  },
  {
   "cell_type": "code",
   "execution_count": 20,
   "metadata": {},
   "outputs": [
    {
     "name": "stdout",
     "output_type": "stream",
     "text": [
      "La película con la peor calificación es:\n"
     ]
    },
    {
     "data": {
      "text/html": [
       "<div>\n",
       "<style scoped>\n",
       "    .dataframe tbody tr th:only-of-type {\n",
       "        vertical-align: middle;\n",
       "    }\n",
       "\n",
       "    .dataframe tbody tr th {\n",
       "        vertical-align: top;\n",
       "    }\n",
       "\n",
       "    .dataframe thead th {\n",
       "        text-align: right;\n",
       "    }\n",
       "</style>\n",
       "<table border=\"1\" class=\"dataframe\">\n",
       "  <thead>\n",
       "    <tr style=\"text-align: right;\">\n",
       "      <th></th>\n",
       "      <th>originalTitle</th>\n",
       "      <th>voteAverage</th>\n",
       "      <th>voteCount</th>\n",
       "    </tr>\n",
       "  </thead>\n",
       "  <tbody>\n",
       "    <tr>\n",
       "      <th>2766</th>\n",
       "      <td>Dragonball Evolution</td>\n",
       "      <td>2.8</td>\n",
       "      <td>1600</td>\n",
       "    </tr>\n",
       "  </tbody>\n",
       "</table>\n",
       "</div>"
      ],
      "text/plain": [
       "             originalTitle  voteAverage  voteCount\n",
       "2766  Dragonball Evolution          2.8       1600"
      ]
     },
     "metadata": {},
     "output_type": "display_data"
    }
   ],
   "source": [
    "df = pd.read_csv('movies.csv', encoding='ISO-8859-1')\n",
    "\n",
    "# Convert the 'voteCount' and 'voteAvg' columns to numeric, coercing errors to NaN\n",
    "df['voteCount'] = pd.to_numeric(df['voteCount'], errors='coerce')\n",
    "df['voteAverage'] = pd.to_numeric(df['voteAvg'], errors='coerce')\n",
    "\n",
    "# Filter out films with fewer than 500 votes\n",
    "min_votes = 500\n",
    "filtered_df = df[df['voteCount'] > min_votes]\n",
    "\n",
    "# Find the movie with the lowest average rating\n",
    "worst_rated_film = filtered_df.loc[filtered_df['voteAvg'].idxmin()]\n",
    "\n",
    "print(\"La película con la peor calificación es:\")\n",
    "display(filtered_df.loc[[filtered_df['voteAvg'].idxmin()]][['originalTitle', 'voteAverage', 'voteCount']])"
   ]
  },
  {
   "cell_type": "markdown",
   "metadata": {},
   "source": [
    "**Análisis de la Película con la Peor Calificación según los Usuarios**\n",
    "\n",
    "<small> La película que ha recibido la calificación más baja de los usuarios dentro del dataset es **Dragonball Evolution**. Con una calificación promedio de **2.8** y **1600** votos, este título refleja una recepción significativamente negativa por parte de la audiencia. La evaluación de los usuarios sugiere que la película no logró satisfacer las expectativas en varios aspectos clave como la trama, la actuación o la producción. </small>\n"
   ]
  },
  {
   "cell_type": "markdown",
   "metadata": {},
   "source": [
    "**e. ¿Cuántas películas se hicieron en cada año? ¿En qué año se hicieron más películas? Haga un gráfico de barras**\n"
   ]
  },
  {
   "cell_type": "code",
   "execution_count": 26,
   "metadata": {},
   "outputs": [
    {
     "name": "stdout",
     "output_type": "stream",
     "text": [
      "\n",
      "El año con más películas fue 2021, con un total de 816 películas.\n"
     ]
    },
    {
     "data": {
      "image/png": "[encoded data removed]",
      "text/plain": [
       "<Figure size 1400x700 with 1 Axes>"
      ]
     },
     "metadata": {},
     "output_type": "display_data"
    }
   ],
   "source": [
    "df = pd.read_csv('movies.csv', encoding='ISO-8859-1')\n",
    "\n",
    "df['releaseDate'] = pd.to_datetime(df['releaseDate'], errors='coerce')\n",
    "df['releaseYear'] = df['releaseDate'].dt.year\n",
    "\n",
    "movies_per_year = df['releaseYear'].value_counts().sort_index()\n",
    "\n",
    "max_year = movies_per_year.idxmax()\n",
    "max_movies = movies_per_year.max()\n",
    "\n",
    "print(f\"\\nEl año con más películas fue {max_year}, con un total de {max_movies} películas.\")\n",
    "\n",
    "plt.figure(figsize=(14, 7))\n",
    "plt.bar(movies_per_year.index, movies_per_year.values, color='teal')\n",
    "plt.title('Número de Películas Producidas por Año')\n",
    "plt.xlabel('Año')\n",
    "plt.ylabel('Número de Películas')\n",
    "plt.grid(True)\n",
    "plt.show()"
   ]
  },
  {
   "cell_type": "markdown",
   "metadata": {},
   "source": [
    "**Análisis del Año con Mayor Producción Cinematográfica**\n",
    "\n",
    "<small> El análisis del número de películas producidas por año revela una tendencia creciente en la producción cinematográfica, alcanzando un pico en **2021** con un total de **816 películas**. Este incremento es evidente en el gráfico adjunto, que muestra cómo la producción de películas ha aumentado significativamente en las últimas décadas.\n",
    "\n",
    "El año 2021 se destaca como el año con la producción más alta registrada dentro del dataset. Este fenómeno puede atribuirse a varios factores, incluyendo el avance tecnológico que facilita la producción de películas, una mayor demanda de contenido debido a la expansión de plataformas de streaming, y posiblemente un repunte en la producción tras los retrasos causados por eventos globales como la pandemia de COVID-19, que impactó significativamente la industria en 2020.\n",
    "\n",
    "Esta tendencia no solo refleja el crecimiento de la industria cinematográfica sino también un cambio en los hábitos de consumo de entretenimiento a nivel mundial, con un enfoque creciente hacia la diversidad de contenido y la accesibilidad digital. Este aumento en la producción también puede estar influenciado por la globalización del cine, donde más países y productores independientes están participando activamente en la creación de películas.\n",
    "\n",
    "El gráfico de barras proporciona una visualización clara de estas tendencias, mostrando no solo el año con más producciones sino también cómo ha evolucionado la cantidad de películas a lo largo del tiempo, subrayando los cambios significativos y los nuevos desarrollos en la industria del cine.\n",
    "</small>\n"
   ]
  }
 ],
 "metadata": {
  "kernelspec": {
   "display_name": "venv",
   "language": "python",
   "name": "python3"
  },
  "language_info": {
   "codemirror_mode": {
    "name": "ipython",
    "version": 3
   },
   "file_extension": ".py",
   "mimetype": "text/x-python",
   "name": "python",
   "nbconvert_exporter": "python",
   "pygments_lexer": "ipython3",
   "version": "3.12.1"
  }
 },
 "nbformat": 4,
 "nbformat_minor": 2
}
